{
 "cells": [
  {
   "cell_type": "code",
   "execution_count": 28,
   "source": [
    "import pandas as pd\r\n",
    "df = pd.read_csv(\"salaries_by_college_major.csv\")\r\n",
    "clean_df = df.dropna()\r\n",
    "# print(clean_df[\"Mid-Career Median Salary\"].max())\r\n",
    "# print(clean_df[\"Mid-Career Median Salary\"].idxmax())\r\n",
    "# clean_df[\"Undergraduate Major\"].loc[8]\r\n",
    "# print(clean_df[\"Starting Median Salary\"].min())\r\n",
    "# print(clean_df[\"Starting Median Salary\"].idxmin())\r\n",
    "# print(clean_df[\"Starting Median Salary\"].min())\r\n",
    "# clean_df.loc[clean_df['Mid-Career Median Salary'].idxmin()]\r\n",
    "spread_col = clean_df['Mid-Career 90th Percentile Salary'] - clean_df['Mid-Career 10th Percentile Salary']\r\n",
    "clean_df.insert(1, 'Spread', spread_col) # 1- add new colon to 1st place (starts from 0), 'Spread' - column name, new df column\r\n",
    "# clean_df.head() # show table columns \r\n",
    "\r\n",
    "# low_risk = clean_df.sort_values('Spread')\r\n",
    "# low_risk[['Undergraduate Major', 'Spread']].head()\r\n",
    "\r\n",
    "# top_5 = clean_df.sort_values(\"Mid-Career 90th Percentile Salary\",ascending=False)[['Undergraduate Major', 'Mid-Career 90th Percentile Salary']].head()\r\n",
    "# print(f\"Top 5 degrees with the highest values in the 90th percentile: {top_5} \")\r\n",
    "\r\n",
    "#\"Degrees with the greatest spread in salaries: {} \"\r\n",
    "\r\n",
    "# most_spread = clean_df.sort_values(\"Spread\", ascending=False)\r\n",
    "# most_spread[['Undergraduate Major', 'Spread']].head()\r\n",
    "\r\n",
    "# We have three categories in the 'Group' column: STEM, HASS and Business. Let's count how many majors we have in each category:\r\n",
    "#clean_df.groupby('Group').count()\r\n",
    "\r\n",
    "# Now can you use the .mean() method to find the average salary by group? \r\n",
    "clean_df.groupby('Group').mean()"
   ],
   "outputs": [
    {
     "output_type": "execute_result",
     "data": {
      "text/plain": [
       "                 Spread  Starting Median Salary  Mid-Career Median Salary  \\\n",
       "Group                                                                       \n",
       "Business  103958.333333            44633.333333              75083.333333   \n",
       "HASS       95218.181818            37186.363636              62968.181818   \n",
       "STEM      101600.000000            53862.500000              90812.500000   \n",
       "\n",
       "          Mid-Career 10th Percentile Salary  Mid-Career 90th Percentile Salary  \n",
       "Group                                                                           \n",
       "Business                       43566.666667                      147525.000000  \n",
       "HASS                           34145.454545                      129363.636364  \n",
       "STEM                           56025.000000                      157625.000000  "
      ],
      "text/html": [
       "<div>\n",
       "<style scoped>\n",
       "    .dataframe tbody tr th:only-of-type {\n",
       "        vertical-align: middle;\n",
       "    }\n",
       "\n",
       "    .dataframe tbody tr th {\n",
       "        vertical-align: top;\n",
       "    }\n",
       "\n",
       "    .dataframe thead th {\n",
       "        text-align: right;\n",
       "    }\n",
       "</style>\n",
       "<table border=\"1\" class=\"dataframe\">\n",
       "  <thead>\n",
       "    <tr style=\"text-align: right;\">\n",
       "      <th></th>\n",
       "      <th>Spread</th>\n",
       "      <th>Starting Median Salary</th>\n",
       "      <th>Mid-Career Median Salary</th>\n",
       "      <th>Mid-Career 10th Percentile Salary</th>\n",
       "      <th>Mid-Career 90th Percentile Salary</th>\n",
       "    </tr>\n",
       "    <tr>\n",
       "      <th>Group</th>\n",
       "      <th></th>\n",
       "      <th></th>\n",
       "      <th></th>\n",
       "      <th></th>\n",
       "      <th></th>\n",
       "    </tr>\n",
       "  </thead>\n",
       "  <tbody>\n",
       "    <tr>\n",
       "      <th>Business</th>\n",
       "      <td>103958.333333</td>\n",
       "      <td>44633.333333</td>\n",
       "      <td>75083.333333</td>\n",
       "      <td>43566.666667</td>\n",
       "      <td>147525.000000</td>\n",
       "    </tr>\n",
       "    <tr>\n",
       "      <th>HASS</th>\n",
       "      <td>95218.181818</td>\n",
       "      <td>37186.363636</td>\n",
       "      <td>62968.181818</td>\n",
       "      <td>34145.454545</td>\n",
       "      <td>129363.636364</td>\n",
       "    </tr>\n",
       "    <tr>\n",
       "      <th>STEM</th>\n",
       "      <td>101600.000000</td>\n",
       "      <td>53862.500000</td>\n",
       "      <td>90812.500000</td>\n",
       "      <td>56025.000000</td>\n",
       "      <td>157625.000000</td>\n",
       "    </tr>\n",
       "  </tbody>\n",
       "</table>\n",
       "</div>"
      ]
     },
     "metadata": {},
     "execution_count": 28
    }
   ],
   "metadata": {}
  },
  {
   "cell_type": "code",
   "execution_count": null,
   "source": [],
   "outputs": [],
   "metadata": {}
  }
 ],
 "metadata": {
  "orig_nbformat": 4,
  "language_info": {
   "name": "python",
   "version": "3.9.1",
   "mimetype": "text/x-python",
   "codemirror_mode": {
    "name": "ipython",
    "version": 3
   },
   "pygments_lexer": "ipython3",
   "nbconvert_exporter": "python",
   "file_extension": ".py"
  },
  "kernelspec": {
   "name": "python3",
   "display_name": "Python 3.9.1 64-bit ('.venv': venv)"
  },
  "interpreter": {
   "hash": "1c321cbb8e97671cb2a6df9ec9b329c94ecb4c181c6216a6a60bfc88cfa85499"
  }
 },
 "nbformat": 4,
 "nbformat_minor": 2
}